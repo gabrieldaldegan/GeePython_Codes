{
 "cells": [
  {
   "cell_type": "code",
   "execution_count": 2,
   "metadata": {},
   "outputs": [],
   "source": [
    "# -*- coding: utf-8 -*-\n",
    "\"\"\"\n",
    "Code to convert images from .geotiff (output from GEE) to .png (to be used by LandPKS)\n",
    "https://pillow.readthedocs.io/en/stable/handbook/tutorial.html#reading-and-writing-images\n",
    "Date: 05/11/2020\n",
    "\"\"\"\n",
    "# Copyright 2020 Conservation International\n",
    "\n",
    "from __future__ import absolute_import\n",
    "from __future__ import division\n",
    "from __future__ import print_function\n",
    "\n",
    "from builtins import str\n",
    "import random\n",
    "import json\n",
    "\n",
    "import ee\n",
    "\n",
    "import os, sys\n",
    "from PIL import Image\n",
    "\n",
    "%matplotlib inline\n",
    "\n",
    "from IPython.display import Image\n",
    "\n",
    "import ee\n",
    "\n",
    "# The service account email address authorized by your Google contact.\n",
    "# Set up a service account as described in the README.\n",
    "EE_ACCOUNT = 'gef-ldmp-server@gef-ld-toolbox.iam.gserviceaccount.com'\n",
    "\n",
    "# The private key associated with your service account in JSON format.\n",
    "EE_PRIVATE_KEY_FILE = 'D:/Gabriel/CI/TrendsEarth/Git/GeePython_Codes/te_key.json'\n",
    "\n",
    "EE_CREDENTIALS = ee.ServiceAccountCredentials(EE_ACCOUNT, EE_PRIVATE_KEY_FILE)\n",
    "#ee.Initialize(EE_CREDENTIALS)\n",
    "ee.Initialize()"
   ]
  },
  {
   "cell_type": "code",
   "execution_count": 3,
   "metadata": {},
   "outputs": [],
   "source": [
    "\"\"\"\n",
    "// Code to export static images at different zoom levels for Trends.Earth integration\n",
    "// with LandPKS as part of the Tools4LDN project (https://www.tools4ldn.org/)\n",
    "// by Mariano Gonzalez-Roglich (mgonzalez-roglich@conservation.org)\n",
    "// Date: 03/19/2020\n",
    "\"\"\"\n",
    "box_side = 10000 ## box side in meters\n",
    "\n",
    "## LandPKS will provide Trends.Earth with the coordinate indicating the location of the plot\n",
    "#coordinates of the point\n",
    "##aoi = get_region(aoi)\n",
    "point = ee.Geometry.Point([-66.8571, -8.7864])\n",
    "\n",
    "oli_sr_coll = ee.ImageCollection('LANDSAT/LC08/C01/T1_SR')##.filterBounds(point.buffer(1000))\n",
    "\n",
    "## print(oli_sr_coll)"
   ]
  },
  {
   "cell_type": "code",
   "execution_count": 4,
   "metadata": {},
   "outputs": [],
   "source": [
    "def maskL8sr(image):\n",
    "  ## Bits 3 and 5 are cloud shadow and cloud, respectively.\n",
    "    cloudShadowBitMask = (1 << 3)\n",
    "    cloudsBitMask = (1 << 5)\n",
    "  ## Get the pixel QA band.\n",
    "    qa = image.select('pixel_qa')\n",
    "  ## Both flags should be set to zero, indicating clear conditions.\n",
    "    mask = qa.bitwiseAnd(cloudShadowBitMask).eq(0)\n",
    "    return image.updateMask(mask)\n",
    "\n",
    "def ndvi(image):\n",
    "    return image.normalizedDifference(['B5', 'B4']).rename('NDVI')"
   ]
  },
  {
   "cell_type": "code",
   "execution_count": 5,
   "metadata": {},
   "outputs": [],
   "source": [
    "ndvi_14 = oli_sr_coll.filterDate('2014-01-01', '2014-12-31').map(maskL8sr).map(ndvi).mean().addBands(ee.Image(2014).float()).rename(['ndvi','year'])\n",
    "ndvi_15 = oli_sr_coll.filterDate('2015-01-01', '2015-12-31').map(maskL8sr).map(ndvi).mean().addBands(ee.Image(2015).float()).rename(['ndvi','year'])\n",
    "ndvi_16 = oli_sr_coll.filterDate('2016-01-01', '2016-12-31').map(maskL8sr).map(ndvi).mean().addBands(ee.Image(2016).float()).rename(['ndvi','year'])\n",
    "ndvi_17 = oli_sr_coll.filterDate('2017-01-01', '2017-12-31').map(maskL8sr).map(ndvi).mean().addBands(ee.Image(2017).float()).rename(['ndvi','year'])\n",
    "ndvi_18 = oli_sr_coll.filterDate('2018-01-01', '2018-12-31').map(maskL8sr).map(ndvi).mean().addBands(ee.Image(2018).float()).rename(['ndvi','year'])\n",
    "ndvi_19 = oli_sr_coll.filterDate('2019-01-01', '2019-12-31').map(maskL8sr).map(ndvi).mean().addBands(ee.Image(2019).float()).rename(['ndvi','year'])\n",
    "l8sr_19 = oli_sr_coll.filterDate('2019-01-01', '2019-12-31').map(maskL8sr).mean()\n",
    "\n",
    "ndvi_coll = ee.ImageCollection([ndvi_14,ndvi_15,ndvi_16,ndvi_17,ndvi_18,ndvi_19])\n",
    "\n",
    "## compute linear trend function to predict ndvi based on year (ndvi trend)\n",
    "lf_trend = ndvi_coll.select(['year', 'ndvi']).reduce(ee.Reducer.linearFit())\n",
    "\n",
    "ndvi_trnd = (lf_trend.select('scale').divide(ndvi_14.select(\"ndvi\"))).multiply(100)\n",
    "\n",
    "\n",
    "p_ndvi_mean = {'min': 0.3, 'max': 0.9, 'palette':['#ffffcc','#006600']}\n",
    "p_ndvi_trnd = {'min': -10, 'max': 10, 'palette':['#00CC00','#D0D0D0',' #ff0000']}\n",
    "p_l8sr = {'bands': ['B4', 'B3', 'B2'], 'min': 0, 'max': 3000, 'gamma': 1.5,}\n",
    "\n",
    "## Map.addLayer(ndvi_19.select(\"ndvi\"),p_ndvi_mean,\"ndvi_19\")\n",
    "## Map.addLayer(ndvi_trnd,p_ndvi_trnd,\"ndvi_slope\")"
   ]
  },
  {
   "cell_type": "code",
   "execution_count": 6,
   "metadata": {},
   "outputs": [],
   "source": [
    "## three different zoom levels will be presented (1km, 10km, and 100km squared boxes around the point location)\n",
    "box = point.buffer(box_side/2).bounds()\n",
    "## box_modis = point.buffer(125).bounds()\n",
    "\n",
    "## create vizualization for export\n",
    "map_mean = map_mean = ndvi_19.select(\"ndvi\").visualize(p_ndvi_mean)\n",
    "map_trnd = map_trnd = ndvi_trnd.visualize(p_ndvi_trnd)\n",
    "map_l8sr = map_l8sr = l8sr_19.visualize(p_l8sr)\n",
    "\n",
    "## maps for export\n",
    "map_mean = ee.ImageCollection.fromImages([map_mean, ee.Image().int().paint(point.buffer(box_side/50), 1).visualize({'palette': ['black'], 'opacity': 1})])\n",
    "    \n",
    "map_trnd = ee.ImageCollection.fromImages([map_trnd, ee.Image().int().paint(point.buffer(box_side/50), 1).visualize({'palette': ['black'], 'opacity': 1})])\n",
    "\n",
    "map_l8sr = ee.ImageCollection.fromImages([map_l8sr, ee.Image().int().paint(point.buffer(box_side/100), 1).visualize({'palette': ['black'], 'opacity': 1})])"
   ]
  },
  {
   "cell_type": "code",
   "execution_count": 7,
   "metadata": {},
   "outputs": [
    {
     "ename": "EEException",
     "evalue": "Image.visualize: Expected a string or list of strings for field 'bands'.",
     "output_type": "error",
     "traceback": [
      "\u001b[1;31m---------------------------------------------------------------------------\u001b[0m",
      "\u001b[1;31mHttpError\u001b[0m                                 Traceback (most recent call last)",
      "\u001b[1;32mD:\\Anaconda3\\lib\\site-packages\\ee\\data.py\u001b[0m in \u001b[0;36m_execute_cloud_call\u001b[1;34m(call, num_retries)\u001b[0m\n\u001b[0;32m    337\u001b[0m   \u001b[1;32mtry\u001b[0m\u001b[1;33m:\u001b[0m\u001b[1;33m\u001b[0m\u001b[1;33m\u001b[0m\u001b[0m\n\u001b[1;32m--> 338\u001b[1;33m     \u001b[1;32mreturn\u001b[0m \u001b[0mcall\u001b[0m\u001b[1;33m.\u001b[0m\u001b[0mexecute\u001b[0m\u001b[1;33m(\u001b[0m\u001b[0mnum_retries\u001b[0m\u001b[1;33m=\u001b[0m\u001b[0mnum_retries\u001b[0m\u001b[1;33m)\u001b[0m\u001b[1;33m\u001b[0m\u001b[1;33m\u001b[0m\u001b[0m\n\u001b[0m\u001b[0;32m    339\u001b[0m   \u001b[1;32mexcept\u001b[0m \u001b[0mapiclient\u001b[0m\u001b[1;33m.\u001b[0m\u001b[0merrors\u001b[0m\u001b[1;33m.\u001b[0m\u001b[0mHttpError\u001b[0m \u001b[1;32mas\u001b[0m \u001b[0me\u001b[0m\u001b[1;33m:\u001b[0m\u001b[1;33m\u001b[0m\u001b[1;33m\u001b[0m\u001b[0m\n",
      "\u001b[1;32mD:\\Anaconda3\\lib\\site-packages\\googleapiclient\\_helpers.py\u001b[0m in \u001b[0;36mpositional_wrapper\u001b[1;34m(*args, **kwargs)\u001b[0m\n\u001b[0;32m    133\u001b[0m                     \u001b[0mlogger\u001b[0m\u001b[1;33m.\u001b[0m\u001b[0mwarning\u001b[0m\u001b[1;33m(\u001b[0m\u001b[0mmessage\u001b[0m\u001b[1;33m)\u001b[0m\u001b[1;33m\u001b[0m\u001b[1;33m\u001b[0m\u001b[0m\n\u001b[1;32m--> 134\u001b[1;33m             \u001b[1;32mreturn\u001b[0m \u001b[0mwrapped\u001b[0m\u001b[1;33m(\u001b[0m\u001b[1;33m*\u001b[0m\u001b[0margs\u001b[0m\u001b[1;33m,\u001b[0m \u001b[1;33m**\u001b[0m\u001b[0mkwargs\u001b[0m\u001b[1;33m)\u001b[0m\u001b[1;33m\u001b[0m\u001b[1;33m\u001b[0m\u001b[0m\n\u001b[0m\u001b[0;32m    135\u001b[0m \u001b[1;33m\u001b[0m\u001b[0m\n",
      "\u001b[1;32mD:\\Anaconda3\\lib\\site-packages\\googleapiclient\\http.py\u001b[0m in \u001b[0;36mexecute\u001b[1;34m(self, http, num_retries)\u001b[0m\n\u001b[0;32m    906\u001b[0m         \u001b[1;32mif\u001b[0m \u001b[0mresp\u001b[0m\u001b[1;33m.\u001b[0m\u001b[0mstatus\u001b[0m \u001b[1;33m>=\u001b[0m \u001b[1;36m300\u001b[0m\u001b[1;33m:\u001b[0m\u001b[1;33m\u001b[0m\u001b[1;33m\u001b[0m\u001b[0m\n\u001b[1;32m--> 907\u001b[1;33m             \u001b[1;32mraise\u001b[0m \u001b[0mHttpError\u001b[0m\u001b[1;33m(\u001b[0m\u001b[0mresp\u001b[0m\u001b[1;33m,\u001b[0m \u001b[0mcontent\u001b[0m\u001b[1;33m,\u001b[0m \u001b[0muri\u001b[0m\u001b[1;33m=\u001b[0m\u001b[0mself\u001b[0m\u001b[1;33m.\u001b[0m\u001b[0muri\u001b[0m\u001b[1;33m)\u001b[0m\u001b[1;33m\u001b[0m\u001b[1;33m\u001b[0m\u001b[0m\n\u001b[0m\u001b[0;32m    908\u001b[0m         \u001b[1;32mreturn\u001b[0m \u001b[0mself\u001b[0m\u001b[1;33m.\u001b[0m\u001b[0mpostproc\u001b[0m\u001b[1;33m(\u001b[0m\u001b[0mresp\u001b[0m\u001b[1;33m,\u001b[0m \u001b[0mcontent\u001b[0m\u001b[1;33m)\u001b[0m\u001b[1;33m\u001b[0m\u001b[1;33m\u001b[0m\u001b[0m\n",
      "\u001b[1;31mHttpError\u001b[0m: <HttpError 400 when requesting https://earthengine.googleapis.com/v1alpha/projects/earthengine-legacy/thumbnails?fields=name&alt=json returned \"Image.visualize: Expected a string or list of strings for field 'bands'.\">",
      "\nDuring handling of the above exception, another exception occurred:\n",
      "\u001b[1;31mEEException\u001b[0m                               Traceback (most recent call last)",
      "\u001b[1;32m<ipython-input-7-07b11579c666>\u001b[0m in \u001b[0;36m<module>\u001b[1;34m\u001b[0m\n\u001b[0;32m      3\u001b[0m \u001b[1;33m\u001b[0m\u001b[0m\n\u001b[0;32m      4\u001b[0m \u001b[1;31m# generate url to image thumbnail\u001b[0m\u001b[1;33m\u001b[0m\u001b[1;33m\u001b[0m\u001b[1;33m\u001b[0m\u001b[0m\n\u001b[1;32m----> 5\u001b[1;33m \u001b[0murl\u001b[0m \u001b[1;33m=\u001b[0m \u001b[0mimage_ndvi_mean\u001b[0m\u001b[1;33m.\u001b[0m\u001b[0mgetThumbUrl\u001b[0m\u001b[1;33m(\u001b[0m\u001b[1;33m{\u001b[0m\u001b[1;34m'region'\u001b[0m\u001b[1;33m:\u001b[0m \u001b[0mbox\u001b[0m\u001b[1;33m.\u001b[0m\u001b[0mgetInfo\u001b[0m\u001b[1;33m(\u001b[0m\u001b[1;33m)\u001b[0m\u001b[1;33m,\u001b[0m \u001b[1;34m'dimensions'\u001b[0m\u001b[1;33m:\u001b[0m \u001b[1;36m256\u001b[0m\u001b[1;33m}\u001b[0m\u001b[1;33m)\u001b[0m\u001b[1;33m\u001b[0m\u001b[1;33m\u001b[0m\u001b[0m\n\u001b[0m\u001b[0;32m      6\u001b[0m \u001b[1;33m\u001b[0m\u001b[0m\n\u001b[0;32m      7\u001b[0m \u001b[1;31m# display image\u001b[0m\u001b[1;33m\u001b[0m\u001b[1;33m\u001b[0m\u001b[1;33m\u001b[0m\u001b[0m\n",
      "\u001b[1;32mD:\\Anaconda3\\lib\\site-packages\\ee\\deprecation.py\u001b[0m in \u001b[0;36mWrapper\u001b[1;34m(*args, **kwargs)\u001b[0m\n\u001b[0;32m     30\u001b[0m           \u001b[0mfilename\u001b[0m\u001b[1;33m=\u001b[0m\u001b[0mfunc\u001b[0m\u001b[1;33m.\u001b[0m\u001b[0m__code__\u001b[0m\u001b[1;33m.\u001b[0m\u001b[0mco_filename\u001b[0m\u001b[1;33m,\u001b[0m\u001b[1;33m\u001b[0m\u001b[1;33m\u001b[0m\u001b[0m\n\u001b[0;32m     31\u001b[0m           lineno=func.__code__.co_firstlineno + 1)\n\u001b[1;32m---> 32\u001b[1;33m       \u001b[1;32mreturn\u001b[0m \u001b[0mfunc\u001b[0m\u001b[1;33m(\u001b[0m\u001b[1;33m*\u001b[0m\u001b[0margs\u001b[0m\u001b[1;33m,\u001b[0m \u001b[1;33m**\u001b[0m\u001b[0mkwargs\u001b[0m\u001b[1;33m)\u001b[0m\u001b[1;33m\u001b[0m\u001b[1;33m\u001b[0m\u001b[0m\n\u001b[0m\u001b[0;32m     33\u001b[0m     \u001b[0mdeprecation_message\u001b[0m \u001b[1;33m=\u001b[0m \u001b[1;34m'\\nDEPRECATED: '\u001b[0m \u001b[1;33m+\u001b[0m \u001b[0mmessage\u001b[0m\u001b[1;33m\u001b[0m\u001b[1;33m\u001b[0m\u001b[0m\n\u001b[0;32m     34\u001b[0m     \u001b[1;32mtry\u001b[0m\u001b[1;33m:\u001b[0m\u001b[1;33m\u001b[0m\u001b[1;33m\u001b[0m\u001b[0m\n",
      "\u001b[1;32mD:\\Anaconda3\\lib\\site-packages\\ee\\image.py\u001b[0m in \u001b[0;36mgetThumbURL\u001b[1;34m(self, params)\u001b[0m\n\u001b[0;32m    490\u001b[0m     \u001b[1;31m# behaviour.\u001b[0m\u001b[1;33m\u001b[0m\u001b[1;33m\u001b[0m\u001b[1;33m\u001b[0m\u001b[0m\n\u001b[0;32m    491\u001b[0m     \u001b[1;32mif\u001b[0m \u001b[0mdata\u001b[0m\u001b[1;33m.\u001b[0m\u001b[0m_use_cloud_api\u001b[0m\u001b[1;33m:\u001b[0m  \u001b[1;31m# pylint: disable=protected-access\u001b[0m\u001b[1;33m\u001b[0m\u001b[1;33m\u001b[0m\u001b[0m\n\u001b[1;32m--> 492\u001b[1;33m       \u001b[1;32mreturn\u001b[0m \u001b[0mdata\u001b[0m\u001b[1;33m.\u001b[0m\u001b[0mmakeThumbUrl\u001b[0m\u001b[1;33m(\u001b[0m\u001b[0mself\u001b[0m\u001b[1;33m.\u001b[0m\u001b[0mgetThumbId\u001b[0m\u001b[1;33m(\u001b[0m\u001b[0mparams\u001b[0m\u001b[1;33m)\u001b[0m\u001b[1;33m)\u001b[0m\u001b[1;33m\u001b[0m\u001b[1;33m\u001b[0m\u001b[0m\n\u001b[0m\u001b[0;32m    493\u001b[0m     \u001b[0mimage\u001b[0m\u001b[1;33m,\u001b[0m \u001b[0mparams\u001b[0m \u001b[1;33m=\u001b[0m \u001b[0mself\u001b[0m\u001b[1;33m.\u001b[0m\u001b[0m_apply_visualization\u001b[0m\u001b[1;33m(\u001b[0m\u001b[0mparams\u001b[0m\u001b[1;33m)\u001b[0m\u001b[1;33m\u001b[0m\u001b[1;33m\u001b[0m\u001b[0m\n\u001b[0;32m    494\u001b[0m     \u001b[0mparams\u001b[0m\u001b[1;33m[\u001b[0m\u001b[1;34m'image'\u001b[0m\u001b[1;33m]\u001b[0m \u001b[1;33m=\u001b[0m \u001b[0mimage\u001b[0m\u001b[1;33m\u001b[0m\u001b[1;33m\u001b[0m\u001b[0m\n",
      "\u001b[1;32mD:\\Anaconda3\\lib\\site-packages\\ee\\image.py\u001b[0m in \u001b[0;36mgetThumbId\u001b[1;34m(self, params)\u001b[0m\n\u001b[0;32m    462\u001b[0m     \u001b[0mimage\u001b[0m\u001b[1;33m,\u001b[0m \u001b[0mparams\u001b[0m \u001b[1;33m=\u001b[0m \u001b[0mimage\u001b[0m\u001b[1;33m.\u001b[0m\u001b[0m_apply_visualization\u001b[0m\u001b[1;33m(\u001b[0m\u001b[0mparams\u001b[0m\u001b[1;33m)\u001b[0m  \u001b[1;31m# pylint: disable=protected-access\u001b[0m\u001b[1;33m\u001b[0m\u001b[1;33m\u001b[0m\u001b[0m\n\u001b[0;32m    463\u001b[0m     \u001b[0mparams\u001b[0m\u001b[1;33m[\u001b[0m\u001b[1;34m'image'\u001b[0m\u001b[1;33m]\u001b[0m \u001b[1;33m=\u001b[0m \u001b[0mimage\u001b[0m\u001b[1;33m\u001b[0m\u001b[1;33m\u001b[0m\u001b[0m\n\u001b[1;32m--> 464\u001b[1;33m     \u001b[1;32mreturn\u001b[0m \u001b[0mdata\u001b[0m\u001b[1;33m.\u001b[0m\u001b[0mgetThumbId\u001b[0m\u001b[1;33m(\u001b[0m\u001b[0mparams\u001b[0m\u001b[1;33m)\u001b[0m\u001b[1;33m\u001b[0m\u001b[1;33m\u001b[0m\u001b[0m\n\u001b[0m\u001b[0;32m    465\u001b[0m \u001b[1;33m\u001b[0m\u001b[0m\n\u001b[0;32m    466\u001b[0m   \u001b[1;32mdef\u001b[0m \u001b[0mgetThumbURL\u001b[0m\u001b[1;33m(\u001b[0m\u001b[0mself\u001b[0m\u001b[1;33m,\u001b[0m \u001b[0mparams\u001b[0m\u001b[1;33m=\u001b[0m\u001b[1;32mNone\u001b[0m\u001b[1;33m)\u001b[0m\u001b[1;33m:\u001b[0m\u001b[1;33m\u001b[0m\u001b[1;33m\u001b[0m\u001b[0m\n",
      "\u001b[1;32mD:\\Anaconda3\\lib\\site-packages\\ee\\data.py\u001b[0m in \u001b[0;36mgetThumbId\u001b[1;34m(params, thumbType)\u001b[0m\n\u001b[0;32m    831\u001b[0m               \u001b[0mparent\u001b[0m\u001b[1;33m=\u001b[0m\u001b[0m_get_projects_path\u001b[0m\u001b[1;33m(\u001b[0m\u001b[1;33m)\u001b[0m\u001b[1;33m,\u001b[0m\u001b[1;33m\u001b[0m\u001b[1;33m\u001b[0m\u001b[0m\n\u001b[0;32m    832\u001b[0m               \u001b[0mfields\u001b[0m\u001b[1;33m=\u001b[0m\u001b[1;34m'name'\u001b[0m\u001b[1;33m,\u001b[0m\u001b[1;33m\u001b[0m\u001b[1;33m\u001b[0m\u001b[0m\n\u001b[1;32m--> 833\u001b[1;33m               body=request))\n\u001b[0m\u001b[0;32m    834\u001b[0m     \u001b[1;32mreturn\u001b[0m \u001b[1;33m{\u001b[0m\u001b[1;34m'thumbid'\u001b[0m\u001b[1;33m:\u001b[0m \u001b[0mresult\u001b[0m\u001b[1;33m[\u001b[0m\u001b[1;34m'name'\u001b[0m\u001b[1;33m]\u001b[0m\u001b[1;33m,\u001b[0m \u001b[1;34m'token'\u001b[0m\u001b[1;33m:\u001b[0m \u001b[1;34m''\u001b[0m\u001b[1;33m}\u001b[0m\u001b[1;33m\u001b[0m\u001b[1;33m\u001b[0m\u001b[0m\n\u001b[0;32m    835\u001b[0m   \u001b[0mrequest\u001b[0m \u001b[1;33m=\u001b[0m \u001b[0mparams\u001b[0m\u001b[1;33m.\u001b[0m\u001b[0mcopy\u001b[0m\u001b[1;33m(\u001b[0m\u001b[1;33m)\u001b[0m\u001b[1;33m\u001b[0m\u001b[1;33m\u001b[0m\u001b[0m\n",
      "\u001b[1;32mD:\\Anaconda3\\lib\\site-packages\\ee\\data.py\u001b[0m in \u001b[0;36m_execute_cloud_call\u001b[1;34m(call, num_retries)\u001b[0m\n\u001b[0;32m    338\u001b[0m     \u001b[1;32mreturn\u001b[0m \u001b[0mcall\u001b[0m\u001b[1;33m.\u001b[0m\u001b[0mexecute\u001b[0m\u001b[1;33m(\u001b[0m\u001b[0mnum_retries\u001b[0m\u001b[1;33m=\u001b[0m\u001b[0mnum_retries\u001b[0m\u001b[1;33m)\u001b[0m\u001b[1;33m\u001b[0m\u001b[1;33m\u001b[0m\u001b[0m\n\u001b[0;32m    339\u001b[0m   \u001b[1;32mexcept\u001b[0m \u001b[0mapiclient\u001b[0m\u001b[1;33m.\u001b[0m\u001b[0merrors\u001b[0m\u001b[1;33m.\u001b[0m\u001b[0mHttpError\u001b[0m \u001b[1;32mas\u001b[0m \u001b[0me\u001b[0m\u001b[1;33m:\u001b[0m\u001b[1;33m\u001b[0m\u001b[1;33m\u001b[0m\u001b[0m\n\u001b[1;32m--> 340\u001b[1;33m     \u001b[1;32mraise\u001b[0m \u001b[0m_translate_cloud_exception\u001b[0m\u001b[1;33m(\u001b[0m\u001b[0me\u001b[0m\u001b[1;33m)\u001b[0m\u001b[1;33m\u001b[0m\u001b[1;33m\u001b[0m\u001b[0m\n\u001b[0m\u001b[0;32m    341\u001b[0m \u001b[1;33m\u001b[0m\u001b[0m\n\u001b[0;32m    342\u001b[0m \u001b[1;33m\u001b[0m\u001b[0m\n",
      "\u001b[1;31mEEException\u001b[0m: Image.visualize: Expected a string or list of strings for field 'bands'."
     ]
    }
   ],
   "source": [
    "# preview image to be exported\n",
    "image_ndvi_mean = map_mean.mosaic().visualize(p_ndvi_mean)\n",
    "\n",
    "# generate url to image thumbnail\n",
    "url = image_ndvi_mean.getThumbUrl({'region': box.getInfo(), 'dimensions': 256})\n",
    "\n",
    "# display image\n",
    "Image(url=url, embed=True, format='png')\n"
   ]
  },
  {
   "cell_type": "code",
   "execution_count": 61,
   "metadata": {},
   "outputs": [],
   "source": [
    "# use ALOS DEM\n",
    "dem = ee.Image(\"JAXA/ALOS/AW3D30_V1_1\").select('MED')\n",
    "\n",
    "# define export region\n",
    "region = ee.Geometry.LineString([[93.116, 28.709], [93.148, 28.673]]).bounds()"
   ]
  },
  {
   "cell_type": "code",
   "execution_count": 62,
   "metadata": {},
   "outputs": [
    {
     "ename": "TypeError",
     "evalue": "'module' object is not callable",
     "output_type": "error",
     "traceback": [
      "\u001b[1;31m------------------------------------------------------------------------\u001b[0m",
      "\u001b[1;31mTypeError\u001b[0m                              Traceback (most recent call last)",
      "\u001b[1;32m<ipython-input-62-2e69b10f3bef>\u001b[0m in \u001b[0;36m<module>\u001b[1;34m\u001b[0m\n\u001b[0;32m      6\u001b[0m \u001b[1;33m\u001b[0m\u001b[0m\n\u001b[0;32m      7\u001b[0m \u001b[1;31m# display image\u001b[0m\u001b[1;33m\u001b[0m\u001b[1;33m\u001b[0m\u001b[1;33m\u001b[0m\u001b[0m\n\u001b[1;32m----> 8\u001b[1;33m \u001b[0mImage\u001b[0m\u001b[1;33m(\u001b[0m\u001b[0murl\u001b[0m\u001b[1;33m=\u001b[0m\u001b[0murl\u001b[0m\u001b[1;33m,\u001b[0m \u001b[0membed\u001b[0m\u001b[1;33m=\u001b[0m\u001b[1;32mTrue\u001b[0m\u001b[1;33m,\u001b[0m \u001b[0mformat\u001b[0m\u001b[1;33m=\u001b[0m\u001b[1;34m'png'\u001b[0m\u001b[1;33m)\u001b[0m\u001b[1;33m\u001b[0m\u001b[1;33m\u001b[0m\u001b[0m\n\u001b[0m",
      "\u001b[1;31mTypeError\u001b[0m: 'module' object is not callable"
     ]
    }
   ],
   "source": [
    "\n",
    "# preview image to be exported\n",
    "image = dem.visualize(**{ 'min': 3800, 'max': 5260 })\n",
    "\n",
    "# generate url to image thumbnail\n",
    "url = image.getThumbUrl({'region': region.getInfo(), 'dimensions': 256})\n",
    "\n",
    "# display image\n",
    "Image(url=url, embed=True, format='png')"
   ]
  },
  {
   "cell_type": "code",
   "execution_count": 25,
   "metadata": {},
   "outputs": [
    {
     "ename": "NameError",
     "evalue": "name 'image' is not defined",
     "output_type": "error",
     "traceback": [
      "\u001b[1;31m------------------------------------------------------------------------\u001b[0m",
      "\u001b[1;31mNameError\u001b[0m                              Traceback (most recent call last)",
      "\u001b[1;32m<ipython-input-25-0f9a65286595>\u001b[0m in \u001b[0;36m<module>\u001b[1;34m\u001b[0m\n\u001b[0;32m      1\u001b[0m taskToexport1 = ee.batch.Export.image.toCloudStorage({\n\u001b[1;32m----> 2\u001b[1;33m   \u001b[0mimage\u001b[0m\u001b[1;33m:\u001b[0m \u001b[0mmap_mean\u001b[0m\u001b[1;33m.\u001b[0m\u001b[0mmosaic\u001b[0m\u001b[1;33m(\u001b[0m\u001b[1;33m)\u001b[0m\u001b[1;33m,\u001b[0m\u001b[1;33m\u001b[0m\u001b[1;33m\u001b[0m\u001b[0m\n\u001b[0m\u001b[0;32m      3\u001b[0m   \u001b[0mdescription\u001b[0m\u001b[1;33m:\u001b[0m \u001b[1;34m'ndvi_mean_box_'\u001b[0m\u001b[1;33m+\u001b[0m\u001b[0mbox_side\u001b[0m\u001b[1;33m/\u001b[0m\u001b[1;36m1000\u001b[0m\u001b[1;33m+\u001b[0m\u001b[1;34m'km'\u001b[0m\u001b[1;33m,\u001b[0m\u001b[1;33m\u001b[0m\u001b[1;33m\u001b[0m\u001b[0m\n\u001b[0;32m      4\u001b[0m   \u001b[0mbucket\u001b[0m\u001b[1;33m:\u001b[0m \u001b[1;34m'tools4ldn'\u001b[0m\u001b[1;33m,\u001b[0m\u001b[1;33m\u001b[0m\u001b[1;33m\u001b[0m\u001b[0m\n\u001b[0;32m      5\u001b[0m   \u001b[0mregion\u001b[0m\u001b[1;33m:\u001b[0m \u001b[0mbox\u001b[0m\u001b[1;33m,\u001b[0m\u001b[1;33m\u001b[0m\u001b[1;33m\u001b[0m\u001b[0m\n",
      "\u001b[1;31mNameError\u001b[0m: name 'image' is not defined"
     ]
    }
   ],
   "source": [
    "taskToexport1 = ee.batch.Export.image.toCloudStorage({\n",
    "  image: map_mean.mosaic(),\n",
    "  description: 'ndvi_mean_box_'+box_side/1000+'km',\n",
    "  bucket: 'tools4ldn',\n",
    "  region: box,\n",
    "  scale: box_side/250,\n",
    "  dimensions: 40000})\n",
    "\n",
    "taskToexport2 = ee.batch.Export.image.toCloudStorage({\n",
    "  image: map_trnd.mosaic(),\n",
    "  description: 'ndvi_trnd_box_'+box_side/1000+'km',\n",
    "  bucket: 'tools4ldn',\n",
    "  region: box,\n",
    "  scale: box_side/250,\n",
    "  dimensions: 40000})\n",
    "\n",
    "taskToexport3 = ee.batch.Export.image.toCloudStorage({\n",
    "  image: map_l8sr.mosaic(),\n",
    "  description: 'l8sr_box_'+box_side/1000+'km',\n",
    "  bucket: 'tools4ldn',\n",
    "  region: box,\n",
    "  scale: box_side/250,\n",
    "  dimensions: 40000})"
   ]
  },
  {
   "cell_type": "code",
   "execution_count": 13,
   "metadata": {},
   "outputs": [],
   "source": [
    "def save_png(infile):  \n",
    "    for infile in sys.argv[1:]:\n",
    "    f, e = os.path.splitext(infile)\n",
    "    outfile = f + \".png\"\n",
    "    if infile != outfile:\n",
    "        try:\n",
    "            with Image.open(infile) as im:\n",
    "                im.save(outfile)\n",
    "        except OSError:\n",
    "            print(\"cannot convert\", infile)\n",
    "\n",
    "def run(params, logger):\n",
    "    \"\"\".\"\"\"\n",
    "    logger.debug(\"Loading parameters.\")\n",
    "    asset = params.get('asset')\n",
    "    name = params.get('name')\n",
    "    coord_point = None\n",
    "    infile = None\n",
    "    geojsons = json.loads(params.get('geojsons'))\n",
    "    ndvi = ee.ImageCollection(\"LANDSAT/LC8_L1T_32DAY_NDVI\").first()\n",
    "    lp_traj_slope = ee.Image(\"users/geflanddegradation/global_ld_analysis/r20180821_lp_traj_globe_2001_2015_modis\").select('slope')\n",
    "    \n",
    "    # Check the ENV. Are we running this locally or in prod?\n",
    "    if params.get('ENV') == 'dev':\n",
    "        EXECUTION_ID = str(random.randint(1000000, 99999999))\n",
    "    else:\n",
    "        EXECUTION_ID = params.get('EXECUTION_ID', None)\n",
    "\n",
    "    logger.debug(\"Running main script.\")\n",
    "    out = save_png(map_tiff)\n",
    "    return out.export(geojsons, 'LandPKS Save PNG', logger, EXECUTION_ID)"
   ]
  },
  {
   "cell_type": "code",
   "execution_count": null,
   "metadata": {},
   "outputs": [],
   "source": [
    "## read in image in tiff to be converted\n",
    "infile = Image.open(\"l8sr_box_10km.tif\")"
   ]
  },
  {
   "cell_type": "code",
   "execution_count": null,
   "metadata": {},
   "outputs": [],
   "source": [
    "## check if image has been correctly read in\n",
    "print(im.format, im.size, im.mode)\n",
    "\n",
    "## open image\n",
    "im.show()"
   ]
  }
 ],
 "metadata": {
  "kernelspec": {
   "display_name": "Python 3",
   "language": "python",
   "name": "python3"
  },
  "language_info": {
   "codemirror_mode": {
    "name": "ipython",
    "version": 3
   },
   "file_extension": ".py",
   "mimetype": "text/x-python",
   "name": "python",
   "nbconvert_exporter": "python",
   "pygments_lexer": "ipython3",
   "version": "3.7.4"
  }
 },
 "nbformat": 4,
 "nbformat_minor": 4
}
